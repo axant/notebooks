{
 "cells": [
  {
   "cell_type": "code",
   "execution_count": 1,
   "metadata": {
    "collapsed": true
   },
   "outputs": [],
   "source": [
    "from sqlalchemy.orm import scoped_session, sessionmaker\n",
    "\n",
    "# Create a session that flushes before each query but never commits.\n",
    "# Also wrap it in a scoped_session to ensure we use different sessions for different threads.\n",
    "DBSession = scoped_session(sessionmaker(\n",
    "    autoflush=True, autocommit=False\n",
    "))"
   ]
  },
  {
   "cell_type": "code",
   "execution_count": 2,
   "metadata": {
    "collapsed": true
   },
   "outputs": [],
   "source": [
    "from sqlalchemy.ext.declarative import declarative_base\n",
    "\n",
    "# Create a declarative base class from which our models can inherit\n",
    "# Also takes charge of creating a database metadata object for us.\n",
    "DeclarativeBase = declarative_base()"
   ]
  },
  {
   "cell_type": "code",
   "execution_count": 3,
   "metadata": {
    "collapsed": true
   },
   "outputs": [],
   "source": [
    "from sqlalchemy import Column, Integer, DateTime, Unicode\n",
    "from datetime import datetime\n",
    "\n",
    "class Person(DeclarativeBase):\n",
    "    __tablename__ = 'persons'\n",
    "    \n",
    "    uid = Column(Integer, primary_key=True)\n",
    "    name = Column(Unicode(255), nullable=False)\n",
    "    \n",
    "    def __repr__(self):\n",
    "        return '<Person: %s>' % self.name.encode('ascii', errors='ignore')"
   ]
  },
  {
   "cell_type": "code",
   "execution_count": 4,
   "metadata": {
    "collapsed": false
   },
   "outputs": [],
   "source": [
    "from sqlalchemy import ForeignKey\n",
    "from sqlalchemy.orm import relationship\n",
    "\n",
    "class Log(DeclarativeBase):\n",
    "    __tablename__ = 'logs'\n",
    "\n",
    "    uid = Column(Integer, primary_key=True)\n",
    "    timestamp = Column(DateTime, nullable=False, default=datetime.utcnow)\n",
    "    \n",
    "    person_id = Column(Integer, ForeignKey(Person.uid))\n",
    "    person = relationship(Person, backref=\"logs\")\n",
    "    \n",
    "    def __repr__(self):\n",
    "        return '<Log: %s, %s>' % (self.timestamp, self.person and self.person.name.encode('ascii', errors='ignore'))"
   ]
  },
  {
   "cell_type": "code",
   "execution_count": 5,
   "metadata": {
    "collapsed": false
   },
   "outputs": [],
   "source": [
    "from sqlalchemy import create_engine\n",
    "\n",
    "engine = create_engine('sqlite:///:memory:')\n",
    "DBSession.configure(bind=engine)"
   ]
  },
  {
   "cell_type": "code",
   "execution_count": 6,
   "metadata": {
    "collapsed": false
   },
   "outputs": [],
   "source": [
    "DeclarativeBase.metadata.create_all(engine)"
   ]
  },
  {
   "cell_type": "code",
   "execution_count": 7,
   "metadata": {
    "collapsed": false
   },
   "outputs": [],
   "source": [
    "p = Person(name=u'user')\n",
    "DBSession.add(p)\n",
    "DBSession.commit()"
   ]
  },
  {
   "cell_type": "code",
   "execution_count": 8,
   "metadata": {
    "collapsed": false
   },
   "outputs": [
    {
     "name": "stdout",
     "output_type": "stream",
     "text": [
      "<Person: user>\n"
     ]
    }
   ],
   "source": [
    "user = DBSession.query(Person).first()\n",
    "print user"
   ]
  },
  {
   "cell_type": "code",
   "execution_count": 9,
   "metadata": {
    "collapsed": false
   },
   "outputs": [],
   "source": [
    "l = Log(person=user)\n",
    "DBSession.add(l)\n",
    "DBSession.commit()"
   ]
  },
  {
   "cell_type": "code",
   "execution_count": 10,
   "metadata": {
    "collapsed": false
   },
   "outputs": [
    {
     "name": "stdout",
     "output_type": "stream",
     "text": [
      "<Log: 2015-10-16 10:22:21.191837, user>\n"
     ]
    }
   ],
   "source": [
    "log = DBSession.query(Log).first()\n",
    "print log"
   ]
  },
  {
   "cell_type": "code",
   "execution_count": 11,
   "metadata": {
    "collapsed": false
   },
   "outputs": [],
   "source": [
    "DBSession.delete(user)\n",
    "DBSession.commit()"
   ]
  },
  {
   "cell_type": "code",
   "execution_count": 12,
   "metadata": {
    "collapsed": false
   },
   "outputs": [
    {
     "name": "stdout",
     "output_type": "stream",
     "text": [
      "<Log: 2015-10-16 10:22:21.191837, None>\n"
     ]
    }
   ],
   "source": [
    "print log"
   ]
  },
  {
   "cell_type": "code",
   "execution_count": 13,
   "metadata": {
    "collapsed": false
   },
   "outputs": [],
   "source": [
    "class OtherLog(DeclarativeBase):\n",
    "    __tablename__ = 'otherlogs'\n",
    "\n",
    "    uid = Column(Integer, primary_key=True)\n",
    "    timestamp = Column(DateTime, nullable=False, default=datetime.utcnow)\n",
    "    \n",
    "    person_id = Column(Integer, ForeignKey(Person.uid), nullable=False)\n",
    "    person = relationship(Person, backref=\"otherlogs\")\n",
    "    \n",
    "    def __repr__(self):\n",
    "        return '<Log: %s, %s>' % (self.timestamp, self.person.name.encode('ascii', errors='ignore'))\n",
    "\n",
    "DeclarativeBase.metadata.create_all(engine)"
   ]
  },
  {
   "cell_type": "code",
   "execution_count": 14,
   "metadata": {
    "collapsed": false
   },
   "outputs": [],
   "source": [
    "p = Person(name=u'user')\n",
    "DBSession.add(p)\n",
    "\n",
    "olog = OtherLog(person=p)\n",
    "DBSession.add(olog)\n",
    "\n",
    "DBSession.commit()"
   ]
  },
  {
   "cell_type": "code",
   "execution_count": 15,
   "metadata": {
    "collapsed": false
   },
   "outputs": [
    {
     "name": "stdout",
     "output_type": "stream",
     "text": [
      "<Log: 2015-10-16 10:22:22.501156, user>\n"
     ]
    }
   ],
   "source": [
    "print olog"
   ]
  },
  {
   "cell_type": "code",
   "execution_count": 16,
   "metadata": {
    "collapsed": false
   },
   "outputs": [
    {
     "name": "stdout",
     "output_type": "stream",
     "text": [
      "(sqlite3.IntegrityError) NOT NULL constraint failed: otherlogs.person_id [SQL: u'UPDATE otherlogs SET person_id=? WHERE otherlogs.uid = ?'] [parameters: (None, 1)]\n"
     ]
    }
   ],
   "source": [
    "DBSession.delete(p)\n",
    "\n",
    "try:\n",
    "    DBSession.commit()\n",
    "except Exception as e:\n",
    "    DBSession.rollback()\n",
    "    print e"
   ]
  },
  {
   "cell_type": "code",
   "execution_count": 17,
   "metadata": {
    "collapsed": false
   },
   "outputs": [
    {
     "data": {
      "text/plain": [
       "1"
      ]
     },
     "execution_count": 17,
     "metadata": {},
     "output_type": "execute_result"
    }
   ],
   "source": [
    "DBSession.query(OtherLog).delete()"
   ]
  },
  {
   "cell_type": "code",
   "execution_count": 18,
   "metadata": {
    "collapsed": true
   },
   "outputs": [],
   "source": [
    "from sqlalchemy.orm import backref\n",
    "\n",
    "\n",
    "class MoreLog(DeclarativeBase):\n",
    "    __tablename__ = 'morelogs'\n",
    "\n",
    "    uid = Column(Integer, primary_key=True)\n",
    "    timestamp = Column(DateTime, nullable=False, default=datetime.utcnow)\n",
    "    \n",
    "    person_id = Column(Integer, ForeignKey(Person.uid), nullable=False)\n",
    "    person = relationship(Person, backref=backref(\"morelogs\", cascade='all, delete-orphan'))\n",
    "    \n",
    "    def __repr__(self):\n",
    "        return '<Log: %s, %s>' % (self.timestamp, self.person.name.encode('ascii', errors='ignore'))\n",
    "\n",
    "DeclarativeBase.metadata.create_all(engine)"
   ]
  },
  {
   "cell_type": "code",
   "execution_count": 19,
   "metadata": {
    "collapsed": false
   },
   "outputs": [],
   "source": [
    "p = Person(name=u'user')\n",
    "DBSession.add(p)\n",
    "\n",
    "mlog = MoreLog(person=p)\n",
    "DBSession.add(mlog)\n",
    "\n",
    "DBSession.commit()"
   ]
  },
  {
   "cell_type": "code",
   "execution_count": 20,
   "metadata": {
    "collapsed": false
   },
   "outputs": [
    {
     "name": "stdout",
     "output_type": "stream",
     "text": [
      "[<Log: 2015-10-16 10:22:24.821074, user>]\n"
     ]
    }
   ],
   "source": [
    "print DBSession.query(MoreLog).all()"
   ]
  },
  {
   "cell_type": "code",
   "execution_count": 21,
   "metadata": {
    "collapsed": false
   },
   "outputs": [],
   "source": [
    "DBSession.delete(p)\n",
    "DBSession.commit()"
   ]
  },
  {
   "cell_type": "code",
   "execution_count": 22,
   "metadata": {
    "collapsed": false
   },
   "outputs": [
    {
     "name": "stdout",
     "output_type": "stream",
     "text": [
      "[]\n"
     ]
    }
   ],
   "source": [
    "print DBSession.query(MoreLog).all()"
   ]
  },
  {
   "cell_type": "code",
   "execution_count": 23,
   "metadata": {
    "collapsed": true
   },
   "outputs": [],
   "source": [
    "p = Person(name=u'user')\n",
    "DBSession.add(p)\n",
    "\n",
    "mlog = MoreLog(person=p)\n",
    "DBSession.add(mlog)\n",
    "\n",
    "DBSession.commit()"
   ]
  },
  {
   "cell_type": "code",
   "execution_count": 24,
   "metadata": {
    "collapsed": false
   },
   "outputs": [],
   "source": [
    "mlog = DBSession.query(MoreLog).first()\n",
    "\n",
    "DBSession.delete(mlog)\n",
    "DBSession.commit()"
   ]
  },
  {
   "cell_type": "code",
   "execution_count": 25,
   "metadata": {
    "collapsed": false
   },
   "outputs": [
    {
     "name": "stdout",
     "output_type": "stream",
     "text": [
      "[<Person: user>, <Person: user>]\n"
     ]
    }
   ],
   "source": [
    "print DBSession.query(Person).all()"
   ]
  },
  {
   "cell_type": "code",
   "execution_count": 26,
   "metadata": {
    "collapsed": true
   },
   "outputs": [],
   "source": [
    "from sqlalchemy.orm import backref\n",
    "\n",
    "\n",
    "class OneLog(DeclarativeBase):\n",
    "    __tablename__ = 'onelogs'\n",
    "\n",
    "    uid = Column(Integer, primary_key=True)\n",
    "    timestamp = Column(DateTime, nullable=False, default=datetime.utcnow)\n",
    "    \n",
    "    person_id = Column(Integer, ForeignKey(Person.uid), nullable=False)\n",
    "    person = relationship(Person, backref=backref(\"log\", uselist=False, cascade='all, delete-orphan'))\n",
    "    \n",
    "    def __repr__(self):\n",
    "        return '<Log: %s, %s>' % (self.timestamp, self.person.name.encode('ascii', errors='ignore'))\n",
    "\n",
    "DeclarativeBase.metadata.create_all(engine)"
   ]
  },
  {
   "cell_type": "code",
   "execution_count": 27,
   "metadata": {
    "collapsed": true
   },
   "outputs": [],
   "source": [
    "p = Person(name=u'user')\n",
    "DBSession.add(p)\n",
    "\n",
    "olog = OneLog(person=p)\n",
    "DBSession.add(olog)\n",
    "\n",
    "DBSession.commit()"
   ]
  },
  {
   "cell_type": "code",
   "execution_count": 28,
   "metadata": {
    "collapsed": false
   },
   "outputs": [
    {
     "name": "stdout",
     "output_type": "stream",
     "text": [
      "[<Log: 2015-10-16 10:22:35.636799, user>]\n"
     ]
    }
   ],
   "source": [
    "print DBSession.query(OneLog).all()"
   ]
  },
  {
   "cell_type": "code",
   "execution_count": 29,
   "metadata": {
    "collapsed": false
   },
   "outputs": [
    {
     "data": {
      "text/plain": [
       "<Person: user>"
      ]
     },
     "execution_count": 29,
     "metadata": {},
     "output_type": "execute_result"
    }
   ],
   "source": [
    "olog.person"
   ]
  },
  {
   "cell_type": "code",
   "execution_count": 30,
   "metadata": {
    "collapsed": true
   },
   "outputs": [],
   "source": [
    "DBSession.delete(p)\n",
    "DBSession.commit()"
   ]
  },
  {
   "cell_type": "code",
   "execution_count": 31,
   "metadata": {
    "collapsed": false
   },
   "outputs": [
    {
     "name": "stdout",
     "output_type": "stream",
     "text": [
      "[]\n"
     ]
    }
   ],
   "source": [
    "print DBSession.query(OneLog).all()"
   ]
  },
  {
   "cell_type": "code",
   "execution_count": 32,
   "metadata": {
    "collapsed": true
   },
   "outputs": [],
   "source": [
    "p = Person(name=u'user')\n",
    "DBSession.add(p)\n",
    "\n",
    "olog = OneLog(person=p)\n",
    "DBSession.add(olog)\n",
    "\n",
    "DBSession.commit()"
   ]
  },
  {
   "cell_type": "code",
   "execution_count": 33,
   "metadata": {
    "collapsed": false
   },
   "outputs": [
    {
     "data": {
      "text/plain": [
       "3"
      ]
     },
     "execution_count": 33,
     "metadata": {},
     "output_type": "execute_result"
    }
   ],
   "source": [
    "DBSession.query(Person).filter_by(name=u'user').delete()"
   ]
  },
  {
   "cell_type": "code",
   "execution_count": 34,
   "metadata": {
    "collapsed": false
   },
   "outputs": [
    {
     "name": "stdout",
     "output_type": "stream",
     "text": [
      "None\n"
     ]
    }
   ],
   "source": [
    "l = DBSession.query(OneLog).first()\n",
    "print l.person"
   ]
  },
  {
   "cell_type": "code",
   "execution_count": 35,
   "metadata": {
    "collapsed": false
   },
   "outputs": [],
   "source": [
    "from sqlalchemy import Table\n",
    "from sqlalchemy.orm import backref\n",
    "\n",
    "\n",
    "manylog_person_table = Table('manylog_person', DeclarativeBase.metadata,\n",
    "   Column('person_id', Integer,\n",
    "          ForeignKey('persons.uid', onupdate=\"CASCADE\", ondelete=\"CASCADE\"),\n",
    "          primary_key=True),\n",
    "   Column('manylog_id', Integer,\n",
    "          ForeignKey('manylogs.uid', onupdate=\"CASCADE\", ondelete=\"CASCADE\"),\n",
    "          primary_key=True)\n",
    ")\n",
    "\n",
    "\n",
    "\n",
    "class ManyLog(DeclarativeBase):\n",
    "    __tablename__ = 'manylogs'\n",
    "\n",
    "    uid = Column(Integer, primary_key=True)\n",
    "    timestamp = Column(DateTime, nullable=False, default=datetime.utcnow)\n",
    "    \n",
    "    persons = relationship(Person, secondary=manylog_person_table, backref=backref(\"manylogs\"))\n",
    "    \n",
    "    def __repr__(self):\n",
    "        return '<Log: %s, %s>' % (self.timestamp, ','.join(p.name.encode('ascii', errors='ignore') for p in self.persons))\n",
    "\n",
    "    \n",
    "DeclarativeBase.metadata.create_all(engine)"
   ]
  },
  {
   "cell_type": "code",
   "execution_count": 36,
   "metadata": {
    "collapsed": false
   },
   "outputs": [],
   "source": [
    "person1 = Person(name=u'person1')\n",
    "person2 = Person(name=u'person2')\n",
    "DBSession.add(person1)\n",
    "DBSession.add(person2)\n",
    "\n",
    "mlog = ManyLog(persons=[person1, person2])\n",
    "DBSession.add(mlog)\n",
    "\n",
    "DBSession.commit()"
   ]
  },
  {
   "cell_type": "code",
   "execution_count": 37,
   "metadata": {
    "collapsed": false
   },
   "outputs": [
    {
     "name": "stdout",
     "output_type": "stream",
     "text": [
      "[<Log: 2015-10-16 10:22:48.469913, person1,person2>]\n"
     ]
    }
   ],
   "source": [
    "print DBSession.query(ManyLog).all()"
   ]
  },
  {
   "cell_type": "code",
   "execution_count": 38,
   "metadata": {
    "collapsed": false
   },
   "outputs": [
    {
     "name": "stderr",
     "output_type": "stream",
     "text": [
      "/Users/amol/venv/notebook/lib/python2.7/site-packages/sqlalchemy/sql/sqltypes.py:185: SAWarning: Unicode type received non-unicode bind param value 'person1'. (this warning may be suppressed after 10 occurrences)\n",
      "  (util.ellipses_string(value),))\n"
     ]
    }
   ],
   "source": [
    "p = DBSession.query(Person).filter_by(name='person1').first()\n",
    "DBSession.delete(p)\n",
    "DBSession.commit()"
   ]
  },
  {
   "cell_type": "code",
   "execution_count": 39,
   "metadata": {
    "collapsed": false
   },
   "outputs": [
    {
     "name": "stdout",
     "output_type": "stream",
     "text": [
      "[<Log: 2015-10-16 10:22:48.469913, person2>]\n"
     ]
    }
   ],
   "source": [
    "print DBSession.query(ManyLog).all()"
   ]
  },
  {
   "cell_type": "code",
   "execution_count": 40,
   "metadata": {
    "collapsed": false
   },
   "outputs": [
    {
     "name": "stderr",
     "output_type": "stream",
     "text": [
      "/Users/amol/venv/notebook/lib/python2.7/site-packages/sqlalchemy/sql/sqltypes.py:185: SAWarning: Unicode type received non-unicode bind param value 'person2'. (this warning may be suppressed after 10 occurrences)\n",
      "  (util.ellipses_string(value),))\n"
     ]
    }
   ],
   "source": [
    "p = DBSession.query(Person).filter_by(name='person2').first()\n",
    "DBSession.delete(p)\n",
    "DBSession.commit()"
   ]
  },
  {
   "cell_type": "code",
   "execution_count": 41,
   "metadata": {
    "collapsed": false
   },
   "outputs": [
    {
     "name": "stdout",
     "output_type": "stream",
     "text": [
      "[<Log: 2015-10-16 10:22:48.469913, >]\n"
     ]
    }
   ],
   "source": [
    "print DBSession.query(ManyLog).all()"
   ]
  },
  {
   "cell_type": "code",
   "execution_count": 42,
   "metadata": {
    "collapsed": false
   },
   "outputs": [
    {
     "data": {
      "text/plain": [
       "[]"
      ]
     },
     "execution_count": 42,
     "metadata": {},
     "output_type": "execute_result"
    }
   ],
   "source": [
    "DBSession.query(manylog_person_table).all()"
   ]
  },
  {
   "cell_type": "code",
   "execution_count": 43,
   "metadata": {
    "collapsed": true
   },
   "outputs": [],
   "source": [
    "from sqlalchemy import Table\n",
    "from sqlalchemy.orm import backref\n",
    "\n",
    "\n",
    "manylogdel_person_table = Table('manylogdel_person', DeclarativeBase.metadata,\n",
    "   Column('person_id', Integer,\n",
    "          ForeignKey('persons.uid', onupdate=\"CASCADE\", ondelete=\"CASCADE\"),\n",
    "          primary_key=True),\n",
    "   Column('manylogdel_id', Integer,\n",
    "          ForeignKey('manylogsdel.uid', onupdate=\"CASCADE\", ondelete=\"CASCADE\"),\n",
    "          primary_key=True)\n",
    ")\n",
    "\n",
    "\n",
    "\n",
    "class ManyLogDeletable(DeclarativeBase):\n",
    "    __tablename__ = 'manylogsdel'\n",
    "\n",
    "    uid = Column(Integer, primary_key=True)\n",
    "    timestamp = Column(DateTime, nullable=False, default=datetime.utcnow)\n",
    "    \n",
    "    persons = relationship(Person, secondary=manylogdel_person_table, backref=backref(\"manylogsdel\", cascade='all, delete-orphan'))\n",
    "    \n",
    "    def __repr__(self):\n",
    "        return '<Log: %s, %s>' % (self.timestamp, ','.join(p.name.encode('ascii', errors='ignore') for p in self.persons))\n",
    "\n",
    "    \n",
    "DeclarativeBase.metadata.create_all(engine)"
   ]
  },
  {
   "cell_type": "code",
   "execution_count": 44,
   "metadata": {
    "collapsed": false
   },
   "outputs": [
    {
     "name": "stdout",
     "output_type": "stream",
     "text": [
      "On Person.manylogsdel, delete-orphan cascade is not supported on a many-to-many or many-to-one relationship when single_parent is not set.   Set single_parent=True on the relationship().\n"
     ]
    }
   ],
   "source": [
    "try:\n",
    "    person1 = Person(name='person1')\n",
    "except Exception as e:\n",
    "    print e"
   ]
  },
  {
   "cell_type": "code",
   "execution_count": null,
   "metadata": {
    "collapsed": true
   },
   "outputs": [],
   "source": []
  }
 ],
 "metadata": {
  "kernelspec": {
   "display_name": "Python 2",
   "language": "python",
   "name": "python2"
  },
  "language_info": {
   "codemirror_mode": {
    "name": "ipython",
    "version": 2
   },
   "file_extension": ".py",
   "mimetype": "text/x-python",
   "name": "python",
   "nbconvert_exporter": "python",
   "pygments_lexer": "ipython2",
   "version": "2.7.10"
  }
 },
 "nbformat": 4,
 "nbformat_minor": 0
}
