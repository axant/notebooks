{
 "metadata": {
  "name": "",
  "signature": "sha256:731db7c840ffc9758e4f1af99ad5ea2db53a488c67339ecfd54717a9952bf751"
 },
 "nbformat": 3,
 "nbformat_minor": 0,
 "worksheets": [
  {
   "cells": [
    {
     "cell_type": "markdown",
     "metadata": {},
     "source": [
      "Test Suites Foundations\n",
      "=======================\n",
      "\n",
      "Reasons\n",
      "-------\n",
      "\n",
      "* **Regression Testing**  --> If I change code how can I be sure that I didn't break anything?\n",
      "* **User driven design process**  --> Forces you to think about the way the function will be used.\n",
      "* **Ensure Bug Fixing**  --> Before fixing a bug there should be a test that reproduces it, so I can be sure that I actually fixed it.\n",
      "\n",
      "Core Components\n",
      "---------------\n",
      "\n",
      "* **Test Suite**  --> The whole set of ``test cases``\n",
      "* **Test Case**  --> A single test\n",
      "* **Test Fixture**  --> Process needed to setup a set of ``test cases`` and cleanup after their execution\n",
      "* **Test Unit**  --> A *specific* test case that checks a single feature of a single component.\n",
      "* **Integration Tests**  --> An *higher level* test case that checks that multiple components correctly work together"
     ]
    },
    {
     "cell_type": "markdown",
     "metadata": {},
     "source": [
      "Example\n",
      "=======\n",
      "\n",
      "Create an ``HexNumber`` class that represents hexadecimal numbers, arguments that represent a number should be accepted and always printed as ``HEX`` numbers.\n",
      "\n",
      "``Operator`` class should provide math operations that work both on plain Python numbers and Hex Numbers.\n",
      "\n",
      "\n",
      "\n",
      "\n",
      "\n",
      "\n",
      "\n",
      "\n"
     ]
    },
    {
     "cell_type": "code",
     "collapsed": false,
     "input": [
      "class HexNumber(object):\n",
      "    def __init__(self, v):\n",
      "        self._v = int(v)\n",
      "\n",
      "    def __str__(self):\n",
      "        return '0x%x' % self._v\n",
      "\n",
      "    def __int__(self):\n",
      "        return int(self._v)\n",
      "\n",
      "\n",
      "class Operator(object):\n",
      "    def div(self, a, b):\n",
      "        res = int(a) / int(b)\n",
      "        return res"
     ],
     "language": "python",
     "metadata": {},
     "outputs": [],
     "prompt_number": 26
    },
    {
     "cell_type": "markdown",
     "metadata": {},
     "source": [
      "Testing\n",
      "=======\n",
      "\n",
      "HexNumber and Operator should be tested that they correctly work."
     ]
    },
    {
     "cell_type": "code",
     "collapsed": false,
     "input": [
      "import nose\n",
      "from nose.suite import ContextSuite\n",
      "from nose.loader import TestLoader\n",
      "\n",
      "from nose.tools import raises\n",
      "\n",
      "\n",
      "class TestHexNumber(object):\n",
      "    \"\"\"Test Case for HexNumber\"\"\"\n",
      "    \n",
      "    def test_value(self):\n",
      "        \"\"\"Test Unit for printing HEX\"\"\"\n",
      "        x = HexNumber(5)\n",
      "        assert str(x) == '0x5'\n",
      "        \n",
      "    def test_number(self):\n",
      "        \"\"\"Test Unit for conversion to plain python nums\"\"\"\n",
      "        x = HexNumber(5.0)\n",
      "        assert int(x) == 5\n",
      "\n",
      "        \n",
      "class TestOperator(object):\n",
      "    \"\"\"Test Case for Operator\"\"\"\n",
      "    \n",
      "    def test_division(self):\n",
      "        \"\"\"Test Unit for division of two ints\"\"\"\n",
      "        op = Operator()\n",
      "        assert op.div(7, 3) == 2\n",
      "\n",
      "    @raises(ZeroDivisionError)\n",
      "    def test_division_zero(self):\n",
      "        \"\"\"Test Unit for division by ZERO\"\"\"\n",
      "        op = Operator()\n",
      "        assert op.div(5, 0)\n",
      "\n",
      "\n",
      "suite = ContextSuite()\n",
      "suite.addTests(TestLoader().loadTestsFromTestClass(TestHexNumber))\n",
      "suite.addTests(TestLoader().loadTestsFromTestClass(TestOperator))\n",
      "nose.run(suite=suite, argv=[''])"
     ],
     "language": "python",
     "metadata": {},
     "outputs": [
      {
       "output_type": "stream",
       "stream": "stderr",
       "text": [
        "."
       ]
      },
      {
       "output_type": "stream",
       "stream": "stderr",
       "text": [
        "."
       ]
      },
      {
       "output_type": "stream",
       "stream": "stderr",
       "text": [
        "."
       ]
      },
      {
       "output_type": "stream",
       "stream": "stderr",
       "text": [
        "."
       ]
      },
      {
       "output_type": "stream",
       "stream": "stderr",
       "text": [
        "\n",
        "----------------------------------------------------------------------\n",
        "Ran 4 tests in 0.001s\n",
        "\n",
        "OK\n"
       ]
      },
      {
       "metadata": {},
       "output_type": "pyout",
       "prompt_number": 27,
       "text": [
        "True"
       ]
      }
     ],
     "prompt_number": 27
    },
    {
     "cell_type": "markdown",
     "metadata": {},
     "source": [
      "Integration Tests\n",
      "=================\n",
      "\n",
      "Given that Operator and Number seem to correctly work it should be tested that they are able to work together and permit division of hex numbers."
     ]
    },
    {
     "cell_type": "code",
     "collapsed": false,
     "input": [
      "import nose\n",
      "from nose.suite import ContextSuite\n",
      "from nose.loader import TestLoader\n",
      "from nose.tools import raises\n",
      "\n",
      " \n",
      "class TestHexNumberOperatorIntegration(object):\n",
      "    \"\"\"Integration Test Case for Operator working with HexNumber\"\"\"\n",
      "    \n",
      "    def setup(cls):\n",
      "        \"\"\"Test Case Fixture, performs before each test unit\"\"\"\n",
      "        cls.op = Operator()\n",
      "        \n",
      "    def teardown(cls):\n",
      "        \"\"\"Test Case Fixture Cleanup, performs after each test unit\"\"\"\n",
      "        cls.op = None\n",
      "    \n",
      "    def test_hex_division(self):\n",
      "        \"\"\"Test Unit for printing HEX\"\"\"\n",
      "        x = HexNumber(7)\n",
      "        y = HexNumber(3)\n",
      "        \n",
      "        res = self.op.div(x, y)\n",
      "        assert res == HexNumber(2), (res, type(res))\n",
      "\n",
      "\n",
      "suite = ContextSuite()\n",
      "suite.addTests(TestLoader().loadTestsFromTestClass(TestHexNumberOperatorIntegration))\n",
      "nose.run(suite=suite, argv=[''])"
     ],
     "language": "python",
     "metadata": {},
     "outputs": [
      {
       "output_type": "stream",
       "stream": "stderr",
       "text": [
        "F"
       ]
      },
      {
       "output_type": "stream",
       "stream": "stderr",
       "text": [
        "\n",
        "======================================================================\n",
        "FAIL: Test Unit for printing HEX\n",
        "----------------------------------------------------------------------\n",
        "Traceback (most recent call last):\n",
        "  File \"/Users/amol/venv/notebook/lib/python2.7/site-packages/nose/case.py\", line 197, in runTest\n",
        "    self.test(*self.arg)\n",
        "  File \"<ipython-input-29-0f74a7fa565a>\", line 24, in test_hex_division\n",
        "    assert res == HexNumber(2), (res, type(res))\n",
        "AssertionError: (2, <type 'int'>)\n",
        "\n",
        "----------------------------------------------------------------------\n",
        "Ran 1 test in 0.001s\n",
        "\n",
        "FAILED (failures=1)\n"
       ]
      },
      {
       "metadata": {},
       "output_type": "pyout",
       "prompt_number": 29,
       "text": [
        "False"
       ]
      }
     ],
     "prompt_number": 29
    },
    {
     "cell_type": "markdown",
     "metadata": {},
     "source": [
      "Testing Showcases Design Flaws\n",
      "==============================\n",
      "\n",
      "Thanks to test suite we tried to use the code for real and discovered a major design flaw.\n",
      "Our utilities actually work, but if I pass an ``HexNumber`` to ``Operator`` I actually get back an ``int`` which is probably not what I want. ``Operator``\u00a0should preserve the input type."
     ]
    },
    {
     "cell_type": "code",
     "collapsed": false,
     "input": [
      "import nose\n",
      "from nose.suite import ContextSuite\n",
      "\n",
      "from nose.loader import TestLoader\n",
      "from nose.tools import raises\n",
      "\n",
      "\n",
      "class HexNumber(object):\n",
      "    def __init__(self, v):\n",
      "        self._v = int(v)\n",
      "\n",
      "    def __str__(self):\n",
      "        return '0x%x' % self._v\n",
      "\n",
      "    def __int__(self):\n",
      "        return int(self._v)\n",
      "\n",
      "\n",
      "class Operator(object):\n",
      "    def div(self, a, b):\n",
      "        res = int(a) / int(b)\n",
      "        return a.__class__(res)  # PRESERVE TYPE\n",
      "\n",
      "\n",
      "class TestHexNumber(object):\n",
      "    \"\"\"Test Case for HexNumber\"\"\"\n",
      "    \n",
      "    def test_value(self):\n",
      "        \"\"\"Test Unit for printing HEX\"\"\"\n",
      "        x = HexNumber(5)\n",
      "        assert str(x) == '0x5'\n",
      "        \n",
      "    def test_number(self):\n",
      "        \"\"\"Test Unit for conversion to plain python nums\"\"\"\n",
      "        x = HexNumber(5.0)\n",
      "        assert int(x) == 5\n",
      "\n",
      "        \n",
      "class TestOperator(object):\n",
      "    \"\"\"Test Case for Operator\"\"\"\n",
      "    \n",
      "    def test_division(self):\n",
      "        \"\"\"Test Unit for division of two ints\"\"\"\n",
      "        op = Operator()\n",
      "        assert op.div(7, 3) == 2\n",
      "\n",
      "    @raises(ZeroDivisionError)\n",
      "    def test_division_zero(self):\n",
      "        \"\"\"Test Unit for division by ZERO\"\"\"\n",
      "        op = Operator()\n",
      "        assert op.div(5, 0)\n",
      "\n",
      "         \n",
      "class TestHexNumberOperatorIntegration(object):\n",
      "    \"\"\"Integration Test Case for Operator working with HexNumber\"\"\"\n",
      "    \n",
      "    def setup(cls):\n",
      "        \"\"\"Test Case Fixture, performs before each test unit\"\"\"\n",
      "        cls.op = Operator()\n",
      "        \n",
      "    def teardown(cls):\n",
      "        \"\"\"Test Case Fixture Cleanup, performs after each test unit\"\"\"\n",
      "        cls.op = None\n",
      "    \n",
      "    def test_hex_division_is_hex(self):\n",
      "        \"\"\"Test Unit checking that HEX division gives back and HEX\"\"\"\n",
      "        x = HexNumber(7)\n",
      "        y = HexNumber(3)\n",
      "        \n",
      "        res = self.op.div(x, y)\n",
      "        assert isinstance(res, HexNumber), res.__class__\n",
      "\n",
      "    def test_hex_division(self):\n",
      "        \"\"\"Test Unit for printing HEX\"\"\"\n",
      "        x = HexNumber(7)\n",
      "        y = HexNumber(3)\n",
      "        \n",
      "        res = self.op.div(x, y)\n",
      "        assert res == HexNumber(2), res\n",
      "\n",
      "\n",
      "suite = ContextSuite()\n",
      "suite.addTests(TestLoader().loadTestsFromTestClass(TestHexNumber))\n",
      "suite.addTests(TestLoader().loadTestsFromTestClass(TestOperator))\n",
      "suite.addTests(TestLoader().loadTestsFromTestClass(TestHexNumberOperatorIntegration))\n",
      "nose.run(suite=suite, argv=[''])"
     ],
     "language": "python",
     "metadata": {},
     "outputs": [
      {
       "output_type": "stream",
       "stream": "stderr",
       "text": [
        "."
       ]
      },
      {
       "output_type": "stream",
       "stream": "stderr",
       "text": [
        "."
       ]
      },
      {
       "output_type": "stream",
       "stream": "stderr",
       "text": [
        "."
       ]
      },
      {
       "output_type": "stream",
       "stream": "stderr",
       "text": [
        "."
       ]
      },
      {
       "output_type": "stream",
       "stream": "stderr",
       "text": [
        "F"
       ]
      },
      {
       "output_type": "stream",
       "stream": "stderr",
       "text": [
        "."
       ]
      },
      {
       "output_type": "stream",
       "stream": "stderr",
       "text": [
        "\n",
        "======================================================================\n",
        "FAIL: Test Unit for printing HEX\n",
        "----------------------------------------------------------------------\n",
        "Traceback (most recent call last):\n",
        "  File \"/Users/amol/venv/notebook/lib/python2.7/site-packages/nose/case.py\", line 197, in runTest\n",
        "    self.test(*self.arg)\n",
        "  File \"<ipython-input-32-f729e971654b>\", line 79, in test_hex_division\n",
        "    assert res == HexNumber(2), res\n",
        "AssertionError: 0x2\n",
        "\n",
        "----------------------------------------------------------------------\n",
        "Ran 6 tests in 0.002s\n",
        "\n",
        "FAILED (failures=1)\n"
       ]
      },
      {
       "metadata": {},
       "output_type": "pyout",
       "prompt_number": 32,
       "text": [
        "False"
       ]
      }
     ],
     "prompt_number": 32
    },
    {
     "cell_type": "markdown",
     "metadata": {},
     "source": [
      "Another Design Flaw\n",
      "===================\n",
      "\n",
      "Fine, now we get back an HexNumber (it seems) and we are sure that we didn't break plain ``int`` division as it was covered by ``TestOperator``, but the test fails anyway...\n",
      "Why?\n",
      "\n",
      "Well HexNumbers are unable to compare one with the other, so ``res == HexNumber(2)`` will always be ``False``"
     ]
    },
    {
     "cell_type": "code",
     "collapsed": false,
     "input": [
      "import nose\n",
      "from nose.suite import ContextSuite\n",
      "from nose.loader import TestLoader\n",
      "from nose.tools import raises\n",
      "\n",
      "\n",
      "class HexNumber(object):\n",
      "    def __init__(self, v):\n",
      "        self._v = int(v)\n",
      "\n",
      "    def __str__(self):\n",
      "        return '0x%x' % self._v\n",
      "\n",
      "    def __int__(self):\n",
      "        return int(self._v)\n",
      "    \n",
      "    def __eq__(self, other):\n",
      "        # PERMIT COMPARISON\n",
      "        return self._v == other._v\n",
      "\n",
      "\n",
      "class Operator(object):\n",
      "    def div(self, a, b):\n",
      "        res = int(a) / int(b)\n",
      "        return a.__class__(res)  # PRESERVE TYPE\n",
      "\n",
      "\n",
      "class TestHexNumber(object):\n",
      "    \"\"\"Test Case for HexNumber\"\"\"\n",
      "    \n",
      "    def test_value(self):\n",
      "        \"\"\"Test Unit for printing HEX\"\"\"\n",
      "        x = HexNumber(5)\n",
      "        assert str(x) == '0x5'\n",
      "        \n",
      "    def test_number(self):\n",
      "        \"\"\"Test Unit for conversion to plain python nums\"\"\"\n",
      "        x = HexNumber(5.0)\n",
      "        assert int(x) == 5\n",
      "\n",
      "        \n",
      "class TestOperator(object):\n",
      "    \"\"\"Test Case for Operator\"\"\"\n",
      "    \n",
      "    def test_division(self):\n",
      "        \"\"\"Test Unit for division of two ints\"\"\"\n",
      "        op = Operator()\n",
      "        assert op.div(7, 3) == 2\n",
      "\n",
      "    @raises(ZeroDivisionError)\n",
      "    def test_division_zero(self):\n",
      "        \"\"\"Test Unit for division by ZERO\"\"\"\n",
      "        op = Operator()\n",
      "        assert op.div(5, 0)\n",
      "\n",
      "         \n",
      "class TestHexNumberOperatorIntegration(object):\n",
      "    \"\"\"Integration Test Case for Operator working with HexNumber\"\"\"\n",
      "    \n",
      "    def setup(cls):\n",
      "        \"\"\"Test Case Fixture, performs before each test unit\"\"\"\n",
      "        cls.op = Operator()\n",
      "        \n",
      "    def teardown(cls):\n",
      "        \"\"\"Test Case Fixture Cleanup, performs after each test unit\"\"\"\n",
      "        cls.op = None\n",
      "    \n",
      "    def test_hex_division_is_hex(self):\n",
      "        \"\"\"Test Unit checking that HEX division gives back and HEX\"\"\"\n",
      "        x = HexNumber(7)\n",
      "        y = HexNumber(3)\n",
      "        \n",
      "        res = self.op.div(x, y)\n",
      "        assert isinstance(res, HexNumber), res.__class__\n",
      "\n",
      "    def test_hex_division(self):\n",
      "        \"\"\"Test Unit for printing HEX\"\"\"\n",
      "        x = HexNumber(7)\n",
      "        y = HexNumber(3)\n",
      "        \n",
      "        res = self.op.div(x, y)\n",
      "        assert res == HexNumber(2), res\n",
      "\n",
      "\n",
      "suite = ContextSuite()\n",
      "suite.addTests(TestLoader().loadTestsFromTestClass(TestHexNumber))\n",
      "suite.addTests(TestLoader().loadTestsFromTestClass(TestOperator))\n",
      "suite.addTests(TestLoader().loadTestsFromTestClass(TestHexNumberOperatorIntegration))\n",
      "nose.run(suite=suite, argv=[''])"
     ],
     "language": "python",
     "metadata": {},
     "outputs": [
      {
       "output_type": "stream",
       "stream": "stderr",
       "text": [
        "."
       ]
      },
      {
       "output_type": "stream",
       "stream": "stderr",
       "text": [
        "."
       ]
      },
      {
       "output_type": "stream",
       "stream": "stderr",
       "text": [
        "."
       ]
      },
      {
       "output_type": "stream",
       "stream": "stderr",
       "text": [
        "."
       ]
      },
      {
       "output_type": "stream",
       "stream": "stderr",
       "text": [
        "."
       ]
      },
      {
       "output_type": "stream",
       "stream": "stderr",
       "text": [
        "."
       ]
      },
      {
       "output_type": "stream",
       "stream": "stderr",
       "text": [
        "\n",
        "----------------------------------------------------------------------\n",
        "Ran 6 tests in 0.002s\n",
        "\n",
        "OK\n"
       ]
      },
      {
       "metadata": {},
       "output_type": "pyout",
       "prompt_number": 33,
       "text": [
        "True"
       ]
      }
     ],
     "prompt_number": 33
    },
    {
     "cell_type": "markdown",
     "metadata": {},
     "source": [
      "Coverage\n",
      "========\n",
      "\n",
      "Coverage is the process of identifying all the ``paths of execution`` that the **Test Suite** is not checking.\n",
      "Aiming at 100% code coverage means that we are sure that out tests passes through all the if brances in our code and all the code we wrote has been run at least once.\n",
      "\n",
      "Does it mean that we tested everything? **No...**\n",
      "\n",
      "Coverage is able to guarantee that we checked everything we wrote, it is not able to measure code that *we should have written but didn't* missing behaviours won't be reported in coverage.\n",
      "\n",
      "Coverage can be run by passing ``--with-coveage`` and ``--cover-package=packagename``\u00a0to **nose**. If we don't provide the ``--cover-package``\u00a0argument coverage will be reported for all the modules loaded by python."
     ]
    },
    {
     "cell_type": "code",
     "collapsed": false,
     "input": [
      "with open('_opnums.py', 'w') as sourcecode:\n",
      "    sourcecode.write('''\n",
      "class HexNumber(object):\n",
      "    def __init__(self, v):\n",
      "        self._v = int(v)\n",
      "\n",
      "    def __str__(self):\n",
      "        return '0x%x' % self._v\n",
      "\n",
      "    def __int__(self):\n",
      "        return int(self._v)\n",
      "    \n",
      "    def __eq__(self, other):\n",
      "        return self._v == other._v\n",
      "\n",
      "\n",
      "class Operator(object):\n",
      "    def div(self, a, b):\n",
      "        res = int(a) / int(b)\n",
      "        return a.__class__(res)\n",
      "''')\n",
      "\n",
      "\n",
      "import nose\n",
      "from nose.suite import ContextSuite\n",
      "from nose.loader import TestLoader\n",
      "from nose.tools import raises\n",
      "from _opnums import HexNumber, Operator\n",
      "\n",
      "\n",
      "class TestHexNumberOperatorIntegration(object):\n",
      "    \"\"\"Integration Test Case for Operator working with HexNumber\"\"\"\n",
      "    \n",
      "    def setup(cls):\n",
      "        \"\"\"Test Case Fixture, performs before each test unit\"\"\"\n",
      "        cls.op = Operator()\n",
      "        \n",
      "    def teardown(cls):\n",
      "        \"\"\"Test Case Fixture Cleanup, performs after each test unit\"\"\"\n",
      "        cls.op = None\n",
      "    \n",
      "    def test_hex_division_is_hex(self):\n",
      "        \"\"\"Test Unit checking that HEX division gives back and HEX\"\"\"\n",
      "        x = HexNumber(7)\n",
      "        y = HexNumber(3)\n",
      "        \n",
      "        res = self.op.div(x, y)\n",
      "        assert isinstance(res, HexNumber), res.__class__\n",
      "\n",
      "    def test_hex_division(self):\n",
      "        \"\"\"Test Unit for printing HEX\"\"\"\n",
      "        x = HexNumber(7)\n",
      "        y = HexNumber(3)\n",
      "        \n",
      "        res = self.op.div(x, y)\n",
      "        assert res == HexNumber(2), res\n",
      "\n",
      "\n",
      "suite = ContextSuite()\n",
      "suite.addTests(TestLoader().loadTestsFromTestClass(TestHexNumberOperatorIntegration))\n",
      "nose.run(suite=suite, argv=['testsuite', '--with-coverage', '--cover-erase', '--cover-package=_opnums'])"
     ],
     "language": "python",
     "metadata": {},
     "outputs": [
      {
       "output_type": "stream",
       "stream": "stderr",
       "text": [
        "."
       ]
      },
      {
       "output_type": "stream",
       "stream": "stderr",
       "text": [
        "."
       ]
      },
      {
       "output_type": "stream",
       "stream": "stderr",
       "text": [
        "\n",
        "Name      Stmts   Miss  Cover   Missing\n",
        "---------------------------------------\n",
        "_opnums      13      8    38%   2-3, 6-9, 12, 16-17\n",
        "----------------------------------------------------------------------\n",
        "Ran 2 tests in 0.002s\n",
        "\n",
        "OK\n"
       ]
      },
      {
       "metadata": {},
       "output_type": "pyout",
       "prompt_number": 35,
       "text": [
        "True"
       ]
      }
     ],
     "prompt_number": 35
    },
    {
     "cell_type": "markdown",
     "metadata": {},
     "source": [
      "Testing Web Applications\n",
      "========================\n",
      "\n",
      "You already know that Python web applications are developed according to the ``WSGI`` standard so a WSGI server is required to run them. For this reason testing web applications is a bit harder as it requires to simulate the *request* -> *response* flow.\n",
      "\n",
      "Fortunately this is something that is already done for us by the ``WebTest``\u00a0module which is provided with ``TurboGears`` devtools.\n",
      "\n",
      "WebTest provides an ``application object`` with methods that emulate HTTP requests: **.get**, **.post**, **.put** and so on and is able to understand both **html** and **json** responses.\n",
      "\n",
      "Class Fixture\n",
      "-------------\n",
      "\n",
      "Nose provides an easy way to create *class fixtures*, instead of test case fixtures which are executed before and after each test unit the *class fixture* are execute before and after the test case itself (so once for all the test units).\n",
      "\n",
      "This can be useful when fixture perform an heavy operation that is not required to be performed again for each test unit, like creating the test application."
     ]
    },
    {
     "cell_type": "code",
     "collapsed": false,
     "input": [
      "from wsgiref.simple_server import make_server\n",
      "from tg import expose, TGController, AppConfig\n",
      "\n",
      "\n",
      "class RootController(TGController):\n",
      "     @expose()\n",
      "     def index(self):\n",
      "         return '''<html>\n",
      "    <head>\n",
      "        <title>Hello to You</title>\n",
      "    </head>\n",
      "    <body>\n",
      "        <h1>Hello World</h1>\n",
      "    </body>\n",
      "'''\n",
      "\n",
      "config = AppConfig(minimal=True, root_controller=RootController())\n",
      "application = config.make_wsgi_app()"
     ],
     "language": "python",
     "metadata": {},
     "outputs": [
      {
       "output_type": "stream",
       "stream": "stderr",
       "text": [
        "DEBUG:tg.configuration.milestones:renderers_ready milestone passed, calling <bound method Decoration._resolve_expositions of <Decoration 4470779856 for <function index at 0x10a8d6b90>>> directly\n"
       ]
      },
      {
       "output_type": "stream",
       "stream": "stderr",
       "text": [
        "DEBUG:tg.configuration.app_config:Initializing configuration, package: 'None'\n"
       ]
      },
      {
       "output_type": "stream",
       "stream": "stderr",
       "text": [
        "WARNING:tg.configuration.app_config:Default renderer not in renders, automatically switching to json\n"
       ]
      },
      {
       "output_type": "stream",
       "stream": "stderr",
       "text": [
        "DEBUG:tg.configuration.milestones:config_ready milestone reached\n"
       ]
      },
      {
       "output_type": "stream",
       "stream": "stderr",
       "text": [
        "DEBUG:tg.configuration.milestones:renderers_ready milestone reached\n"
       ]
      },
      {
       "output_type": "stream",
       "stream": "stderr",
       "text": [
        "DEBUG:tg.configuration.milestones:environment_loaded milestone reached\n"
       ]
      },
      {
       "output_type": "stream",
       "stream": "stderr",
       "text": [
        "DEBUG:tg.configuration.milestones:environment_loaded milestone reached\n"
       ]
      }
     ],
     "prompt_number": 36
    },
    {
     "cell_type": "code",
     "collapsed": false,
     "input": [
      "import nose\n",
      "from nose.suite import ContextSuite\n",
      "from nose.loader import TestLoader\n",
      "from nose.tools import raises\n",
      "from webtest import TestApp\n",
      "\n",
      "\n",
      "class TestHelloWorldApp(object):\n",
      "    @classmethod\n",
      "    def setup_class(cls):\n",
      "        cls.app = TestApp(application)\n",
      "    \n",
      "    def test_hello_world(self):\n",
      "        res = self.app.get('/')\n",
      "        assert 'Hello World' in res\n",
      "\n",
      "\n",
      "suite = ContextSuite(context=TestHelloWorldApp(),\n",
      "                     tests=TestLoader().loadTestsFromTestClass(TestHelloWorldApp))\n",
      "nose.run(suite=suite, argv=[''])"
     ],
     "language": "python",
     "metadata": {},
     "outputs": [
      {
       "output_type": "stream",
       "stream": "stderr",
       "text": [
        "."
       ]
      },
      {
       "output_type": "stream",
       "stream": "stderr",
       "text": [
        "\n",
        "----------------------------------------------------------------------\n",
        "Ran 1 test in 0.001s\n",
        "\n",
        "OK\n"
       ]
      },
      {
       "metadata": {},
       "output_type": "pyout",
       "prompt_number": 39,
       "text": [
        "True"
       ]
      }
     ],
     "prompt_number": 39
    },
    {
     "cell_type": "markdown",
     "metadata": {},
     "source": [
      "Checking Complex HTML\n",
      "---------------------\n",
      "\n",
      "With WebTest it is also possible to check complex HTML structures if the ``pyquery`` module is installed.\n",
      "\n",
      "**PyQuery** is a python module that works like jQuery and permits easy traversing of the DOM"
     ]
    },
    {
     "cell_type": "code",
     "collapsed": false,
     "input": [
      "import nose\n",
      "from nose.suite import ContextSuite\n",
      "from nose.loader import TestLoader\n",
      "from nose.tools import raises\n",
      "from webtest import TestApp\n",
      "\n",
      "\n",
      "class TestHelloWorldApp(object):\n",
      "    @classmethod\n",
      "    def setup_class(cls):\n",
      "        cls.app = TestApp(application)\n",
      "    \n",
      "    def test_hello_world(self):\n",
      "        res = self.app.get('/')\n",
      "        assert res.pyquery('h1').text() == 'Hello World'\n",
      "\n",
      "    def test_title(self):\n",
      "        res = self.app.get('/')\n",
      "        assert res.pyquery('title').text() == 'Hello to You'\n",
      "\n",
      "\n",
      "suite = ContextSuite(context=TestHelloWorldApp(),\n",
      "                     tests=TestLoader().loadTestsFromTestClass(TestHelloWorldApp))\n",
      "nose.run(suite=suite, argv=[''])"
     ],
     "language": "python",
     "metadata": {},
     "outputs": [
      {
       "output_type": "stream",
       "stream": "stderr",
       "text": [
        "."
       ]
      },
      {
       "output_type": "stream",
       "stream": "stderr",
       "text": [
        "."
       ]
      },
      {
       "output_type": "stream",
       "stream": "stderr",
       "text": [
        "\n",
        "----------------------------------------------------------------------\n",
        "Ran 2 tests in 0.003s\n",
        "\n",
        "OK\n"
       ]
      },
      {
       "metadata": {},
       "output_type": "pyout",
       "prompt_number": 7,
       "text": [
        "True"
       ]
      }
     ],
     "prompt_number": 7
    },
    {
     "cell_type": "markdown",
     "metadata": {},
     "source": [
      "Submitting Forms\n",
      "----------------\n",
      "\n",
      "WebTest permits also to easily fill and **submit forms**, this can be used to test features that require submission of form values.\n",
      "\n",
      "Returned output can also be tested with **json** not only HTML."
     ]
    },
    {
     "cell_type": "code",
     "collapsed": false,
     "input": [
      "from wsgiref.simple_server import make_server\n",
      "from tg import expose, TGController, AppConfig\n",
      "\n",
      "\n",
      "class RootController(TGController):\n",
      "    @expose()\n",
      "    def index(self):\n",
      "        return '''<html>\n",
      "    <head>\n",
      "        <title>Hello to You</title>\n",
      "    </head>\n",
      "    <body>\n",
      "        <h1>Hello World</h1>\n",
      "        <div>\n",
      "            <form id=\"form1\" action=\"/submit\" method=\"POST\">\n",
      "                <input type=\"text\" name=\"value\"/>\n",
      "            </form>\n",
      "        </div>\n",
      "    </body>'''\n",
      "\n",
      "    @expose('json')\n",
      "    def submit(self, value=None, **kwargs):\n",
      "        return dict(value=value)\n",
      "\n",
      "\n",
      "config = AppConfig(minimal=True, root_controller=RootController())\n",
      "application = config.make_wsgi_app()"
     ],
     "language": "python",
     "metadata": {},
     "outputs": [
      {
       "output_type": "stream",
       "stream": "stderr",
       "text": [
        "DEBUG:tg.configuration.milestones:renderers_ready milestone passed, calling <bound method Decoration._resolve_expositions of <Decoration 4473351760 for <function index at 0x10a931e60>>> directly\n"
       ]
      },
      {
       "output_type": "stream",
       "stream": "stderr",
       "text": [
        "DEBUG:tg.configuration.milestones:renderers_ready milestone passed, calling <bound method Decoration._resolve_expositions of <Decoration 4473350800 for <function submit at 0x10a9311b8>>> directly\n"
       ]
      },
      {
       "output_type": "stream",
       "stream": "stderr",
       "text": [
        "DEBUG:tg.configuration.app_config:Initializing configuration, package: 'None'\n"
       ]
      },
      {
       "output_type": "stream",
       "stream": "stderr",
       "text": [
        "WARNING:tg.configuration.app_config:Default renderer not in renders, automatically switching to json\n"
       ]
      },
      {
       "output_type": "stream",
       "stream": "stderr",
       "text": [
        "DEBUG:tg.configuration.milestones:config_ready milestone reached\n"
       ]
      },
      {
       "output_type": "stream",
       "stream": "stderr",
       "text": [
        "DEBUG:tg.configuration.milestones:renderers_ready milestone reached\n"
       ]
      },
      {
       "output_type": "stream",
       "stream": "stderr",
       "text": [
        "DEBUG:tg.configuration.milestones:environment_loaded milestone reached\n"
       ]
      },
      {
       "output_type": "stream",
       "stream": "stderr",
       "text": [
        "DEBUG:tg.configuration.milestones:environment_loaded milestone reached\n"
       ]
      }
     ],
     "prompt_number": 45
    },
    {
     "cell_type": "code",
     "collapsed": false,
     "input": [
      "import nose\n",
      "from nose.suite import ContextSuite\n",
      "from nose.loader import TestLoader\n",
      "from nose.tools import raises\n",
      "from webtest import TestApp\n",
      "\n",
      "\n",
      "class TestHelloWorldApp(object):\n",
      "    @classmethod\n",
      "    def setup_class(cls):\n",
      "        cls.app = TestApp(application)\n",
      "    \n",
      "    def test_hello_world(self):\n",
      "        res = self.app.get('/')\n",
      "        assert res.pyquery('h1').text() == 'Hello World'\n",
      "\n",
      "    def test_title(self):\n",
      "        res = self.app.get('/')\n",
      "        assert res.pyquery('title').text() == 'Hello to You'\n",
      "        \n",
      "    def test_form_submission(self):\n",
      "        page = self.app.get('/')\n",
      "        \n",
      "        form = page.forms['form1']\n",
      "        form['value'] = 'prova'\n",
      "        \n",
      "        res = form.submit()\n",
      "        assert res.json['value'] == 'prova', res\n",
      "        \n",
      "\n",
      "suite = ContextSuite(context=TestHelloWorldApp(),\n",
      "                     tests=TestLoader().loadTestsFromTestClass(TestHelloWorldApp))\n",
      "nose.run(suite=suite, argv=[''])"
     ],
     "language": "python",
     "metadata": {},
     "outputs": [
      {
       "output_type": "stream",
       "stream": "stderr",
       "text": [
        "."
       ]
      },
      {
       "output_type": "stream",
       "stream": "stderr",
       "text": [
        "."
       ]
      },
      {
       "output_type": "stream",
       "stream": "stderr",
       "text": [
        "."
       ]
      },
      {
       "output_type": "stream",
       "stream": "stderr",
       "text": [
        "\n",
        "----------------------------------------------------------------------\n",
        "Ran 3 tests in 0.006s\n",
        "\n",
        "OK\n"
       ]
      },
      {
       "metadata": {},
       "output_type": "pyout",
       "prompt_number": 46,
       "text": [
        "True"
       ]
      }
     ],
     "prompt_number": 46
    },
    {
     "cell_type": "markdown",
     "metadata": {},
     "source": [
      "Testing a Real World Application\n",
      "================================\n",
      "\n",
      "During the previous example the test suite configuration has been performed manually using the ``ContextSuite`` class and started with ``nose.run``.\n",
      "\n",
      "This is something that you usually won't do as it is done by TurboGears and nose for you.\n",
      "To run the test suite it is as simple as running::\n",
      "\n",
      "    $ nosetests -v --with-coverage --cover-erase --cover-package=myapp\n",
      "    \n",
      "Nose itself will look in all files whose name starts with **test_[something].py** for all the classes which name starts with **Test[Something]** and will consider them as **Test Cases**,\n",
      "for each method inside the test case whose name starts with **test_[something]** they will be threated as **Test Units**\n",
      "\n",
      "When quickstarting an application you will notice that there is a **tests** package inside it.\n",
      "This package is provided by TurboGears itself and contains the fixture already creates the ``TestApp`` instance for you and loads configuration from **test.ini** instead of **development.ini**.\n",
      "\n",
      "Take note that **test.ini** actually inherits from **development.ini** and just overwrites some options.\n",
      "For example for tests by default a ``sqlalchemy.url = sqlite:///:memory:`` is used which forces SQLAlchemy to use an in memory database instead of a real one, so that it is created and discarded when the test suite is run.\n",
      "\n",
      "All your application tests that call a web page should inherit from ``tests.TestController`` which ensure:\n",
      "\n",
      " - For each test unit the database is created and initialized by calling ``setup-app``\n",
      " - For each test unit the ``self.app`` object is provided which is a ``TestApp`` instance of your TurboGears2 application loaded from ``test.ini``\n",
      " - After each test unit the database is deleted\n",
      " - After each test unit the SQLAlchemy session is cleared.\n",
      " \n",
      "See **tests/functional/test_root**:\n",
      "\n",
      "    from nose.tools import ok_\n",
      "    from testapp.tests import TestController\n",
      "\n",
      "\n",
      "    class TestRootController(TestController):\n",
      "        \"\"\"Tests for the method in the root controller.\"\"\"\n",
      "\n",
      "        def test_index(self):\n",
      "            response = self.app.get('/')\n",
      "            msg = 'TurboGears 2 is rapid web application development toolkit '\\\n",
      "                  'designed to make your life easier.'\n",
      "            ok_(msg in response)\n",
      "\n",
      "        def test_environ(self):\n",
      "            response = self.app.get('/environ.html')\n",
      "            ok_('The keys in the environment are:' in response)\n",
      "\n",
      "To simulate authentication you can just pass to the **.get**, **.post** and so on methods an **extra_environ** parameter (which is used to add **WSGI environ** values available in **tg.request.environ**) name **REMOTE_USER**.\n",
      "\n",
      "For example if you want to behave like you are logged as the **editor** user you just pass:\n",
      "\n",
      "    def test_secc_with_editor(self):\n",
      "        environ = {'REMOTE_USER': 'editor'}\n",
      "        self.app.get('/secc', extra_environ=environ, status=403)\n"
     ]
    },
    {
     "cell_type": "code",
     "collapsed": false,
     "input": [],
     "language": "python",
     "metadata": {},
     "outputs": []
    }
   ],
   "metadata": {}
  }
 ]
}